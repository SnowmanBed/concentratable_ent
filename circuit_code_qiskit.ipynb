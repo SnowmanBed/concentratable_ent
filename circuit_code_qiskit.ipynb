{
 "cells": [
  {
   "cell_type": "code",
   "execution_count": 1,
   "id": "088b2bf2-dc5d-45d8-9a76-a2779dff9efe",
   "metadata": {
    "tags": []
   },
   "outputs": [],
   "source": [
    "import numpy as np\n",
    "from scipy.linalg import sqrtm\n",
    "import qiskit.quantum_info as qi\n",
    "from scipy.stats import unitary_group\n",
    "from numpy.linalg import qr\n",
    "import matplotlib.pyplot as plt\n",
    "from qiskit import QuantumCircuit, QuantumRegister, ClassicalRegister, execute\n",
    "from qiskit import Aer, transpile\n",
    "from qiskit.circuit import Parameter, ParameterVector\n",
    "import qiskit.quantum_info as qi\n",
    "from qiskit import Aer\n",
    "from qiskit.quantum_info import SparsePauliOp\n",
    "from qiskit.circuit.library import PauliEvolutionGate\n",
    "from qiskit.quantum_info import state_fidelity, Statevector, random_statevector\n",
    "from scipy.linalg import expm\n",
    "from qiskit.extensions import UnitaryGate\n",
    "from qiskit.visualization import plot_histogram\n",
    "import itertools\n",
    "from sympy import *\n",
    "from qiskit.circuit.library import QFT"
   ]
  },
  {
   "cell_type": "code",
   "execution_count": null,
   "id": "c0537dc2-4005-44f9-9aad-1ed0f6ddfe69",
   "metadata": {},
   "outputs": [],
   "source": [
    "from sympy import *\n",
    "init_printing(use_unicode=True)\n",
    "\n",
    "n=symbols(\"n\")\n",
    "a11,a12,a21,a22=symbols(\"a_11,a_12,a_21,a_22\")\n",
    "A = Matrix([[a11,a12],[a21,a22]])\n",
    "simplify(Trace(A**7))"
   ]
  },
  {
   "cell_type": "code",
   "execution_count": null,
   "id": "f4407571-732b-4161-9f6b-3df206cedb34",
   "metadata": {},
   "outputs": [],
   "source": []
  },
  {
   "cell_type": "code",
   "execution_count": null,
   "id": "ce934f80-f830-4788-a46f-f27466903471",
   "metadata": {},
   "outputs": [],
   "source": [
    "def kron(qubit_list):\n",
    "    result = 1\n",
    "    for element in qubit_list:\n",
    "        result = np.kron(result, element)\n",
    "    return result"
   ]
  },
  {
   "cell_type": "code",
   "execution_count": null,
   "id": "1cb4d6f0-0d57-460f-86ed-4d708deb8ba3",
   "metadata": {},
   "outputs": [],
   "source": [
    "n = 6\n",
    "vec_list = []\n",
    "for i in range(3):\n",
    "    if i == 1:\n",
    "        vec = np.matrix(random_state_vector(2))\n",
    "    else:\n",
    "        vec = np.matrix(random_state_vector(4))\n",
    "    vec_list.append(vec)\n",
    "\n",
    "K = 10\n",
    "np.trace((kron(vec_list) * kron(vec_list).H)**K)"
   ]
  },
  {
   "cell_type": "code",
   "execution_count": null,
   "id": "bf0214b7-29e9-47df-a878-30a6aac138f8",
   "metadata": {},
   "outputs": [],
   "source": [
    "GHZ = np.matrix(ghz(2,3).toarray())\n",
    "GHZ = GHZ * GHZ.H\n",
    "\n",
    "n = 4\n",
    "GHZ = np.matrix(random_state_vector(2**n))\n",
    "GHZ = GHZ * GHZ.H\n",
    "# GHZ = np.matrix(random_density_matrix(2**n))\n",
    "K = 5"
   ]
  },
  {
   "cell_type": "code",
   "execution_count": null,
   "id": "7b05ad1d-07b6-494f-a365-5475ebe452c1",
   "metadata": {},
   "outputs": [],
   "source": [
    "val,_ = np.linalg.eig(GHZ)\n",
    "np.sum(val**K)"
   ]
  },
  {
   "cell_type": "code",
   "execution_count": null,
   "id": "7bacdb01-20ab-476a-a7ba-62c4b9067a71",
   "metadata": {},
   "outputs": [],
   "source": [
    "np.trace(GHZ**K)"
   ]
  },
  {
   "cell_type": "code",
   "execution_count": null,
   "id": "786952c7-e747-45a4-b896-2ea42b1f1321",
   "metadata": {},
   "outputs": [],
   "source": [
    "len(GHZ)"
   ]
  },
  {
   "cell_type": "code",
   "execution_count": null,
   "id": "b9249d03-287b-45f2-9d7f-1d322fbcc4a6",
   "metadata": {},
   "outputs": [],
   "source": [
    "qi.partial_trace(GHZ,[0,1,3])"
   ]
  },
  {
   "cell_type": "code",
   "execution_count": null,
   "id": "5efd9233-1a60-4209-827f-bcd5785a4123",
   "metadata": {},
   "outputs": [],
   "source": [
    "np.trace(GHZ**K)"
   ]
  },
  {
   "cell_type": "code",
   "execution_count": null,
   "id": "86b0d326-cea2-4e8b-b483-765dff92664c",
   "metadata": {},
   "outputs": [],
   "source": [
    "np.trace(np.matrix(qi.partial_trace(GHZ,[2,3]))**K)"
   ]
  },
  {
   "cell_type": "code",
   "execution_count": null,
   "id": "ec335083-f373-4b04-a304-f0e301b7c640",
   "metadata": {},
   "outputs": [],
   "source": [
    "0.567163909352"
   ]
  },
  {
   "cell_type": "code",
   "execution_count": null,
   "id": "baa7e0f9-e21b-40a9-8b57-6d5585378aef",
   "metadata": {},
   "outputs": [],
   "source": [
    "n = 10\n",
    "\n",
    "lhs_list = []\n",
    "rhs_list = []\n",
    "\n",
    "sample = 100\n",
    "for i in range(sample):\n",
    "    rho = np.matrix(random_density_matrix(n))\n",
    "    sigma = np.matrix(random_density_matrix(n))\n",
    "\n",
    "\n",
    "    p = np.random.dirichlet(np.ones(2), size=1)\n",
    "\n",
    "    K = 8\n",
    "    lhs = np.trace((np.matrix(p[0,0] * rho + p[0,1] * sigma))**K)\n",
    "    rhs = p[0,0] * np.trace(np.matrix(rho)**K) + p[0,1] * np.trace(np.matrix(sigma)**K)\n",
    "    lhs_list.append(lhs)\n",
    "    rhs_list.append(rhs)\n",
    "    \n",
    "\n",
    "# plt.plot(np.arange(sample), lhs_list)\n",
    "# plt.plot(np.arange(sample), rhs_list)\n",
    "plt.plot(np.arange(sample), np.array(rhs_list)-np.array(lhs_list))"
   ]
  },
  {
   "cell_type": "code",
   "execution_count": null,
   "id": "ca64151e-998a-4267-ab75-39972511b52a",
   "metadata": {},
   "outputs": [],
   "source": [
    "data = []\n",
    "for i in range(100):\n",
    "    n = 4\n",
    "    rho = random_density_matrix(n)\n",
    "    sigma = random_density_matrix(n)\n",
    "    data.append(np.trace((np.matrix(rho))**10))\n",
    "    \n",
    "plt.plot(data)"
   ]
  },
  {
   "cell_type": "code",
   "execution_count": null,
   "id": "fabad2af-1846-4dae-9a89-b6b692be6584",
   "metadata": {},
   "outputs": [],
   "source": [
    "n = 4\n",
    "rho = np.matrix(random_density_matrix(n))\n",
    "sigma = np.matrix(random_density_matrix(n))\n",
    "N = 4\n",
    "j = 3\n",
    "np.trace((rho-sigma)**N)"
   ]
  },
  {
   "cell_type": "code",
   "execution_count": null,
   "id": "fb7d47e9-722f-4e67-8dc3-32aea6591ba7",
   "metadata": {},
   "outputs": [],
   "source": [
    "def powerset(s):\n",
    "    x = len(s)\n",
    "    result = []\n",
    "    for i in range(1 << x):\n",
    "        result.append([s[j] for j in range(x) if (i & (1 << j))])\n",
    "    return result"
   ]
  },
  {
   "cell_type": "code",
   "execution_count": null,
   "id": "892521a1-ef60-4e16-9c74-b75e872d2d4a",
   "metadata": {},
   "outputs": [],
   "source": [
    "powerset([1,3,4])"
   ]
  },
  {
   "cell_type": "code",
   "execution_count": null,
   "id": "22f36df7-1145-4f57-a9e1-4022e5846321",
   "metadata": {},
   "outputs": [],
   "source": [
    "i = 2\n",
    "s = [1,3,4]\n",
    "alpha = powerset(s)[i]\n",
    "list(set(s).difference(set(alpha)))"
   ]
  },
  {
   "cell_type": "code",
   "execution_count": null,
   "id": "b288bf6f-5ce1-4fbb-8112-2a08512008a6",
   "metadata": {},
   "outputs": [],
   "source": [
    "def con_ent(s, K, psi):\n",
    "    rho = psi * psi.H\n",
    "    cs = len(s)\n",
    "    ps = powerset(s)\n",
    "    summ = 0\n",
    "    for i in range(len(ps)):\n",
    "        alpha = ps[i]\n",
    "        alpha = list(set(s).difference(set(alpha)))\n",
    "        if alpha == []:\n",
    "            summ = summ + 1\n",
    "        else:\n",
    "            summ = summ + np.trace(np.matrix(qi.partial_trace(rho,alpha))**K)\n",
    "    result = 1 - 1 / 2**cs * summ\n",
    "    return result"
   ]
  },
  {
   "cell_type": "code",
   "execution_count": null,
   "id": "6550651e-78ee-4f66-a0b0-420c4bc3314c",
   "metadata": {},
   "outputs": [],
   "source": [
    "GHZ = np.matrix(ghz(2,3).toarray())\n",
    "GHZ = GHZ * GHZ.H\n",
    "GHZ"
   ]
  },
  {
   "cell_type": "code",
   "execution_count": null,
   "id": "9564bff5-b1c5-4059-bc11-f5ec9187ceaa",
   "metadata": {},
   "outputs": [],
   "source": [
    "W = np.matrix(w_state(3))\n",
    "W = W * W.H\n",
    "W"
   ]
  },
  {
   "cell_type": "code",
   "execution_count": null,
   "id": "a41f5b2c-b0b3-4820-ae3f-8fab433a59dd",
   "metadata": {},
   "outputs": [],
   "source": [
    "num_partite = np.arange(7) + 2\n",
    "K = 2\n",
    "\n",
    "data_GHZ = []\n",
    "for n in num_partite:\n",
    "    psi = np.matrix(ghz(2,n).toarray())\n",
    "    s = [n-1]\n",
    "    data_GHZ.append(con_ent(s, K, psi))\n",
    "\n",
    "data_W = []\n",
    "for n in num_partite:\n",
    "    psi = np.matrix(w_state(n))\n",
    "    s = [n-1]\n",
    "    data_W.append(con_ent(s, K, psi))    \n",
    "\n",
    "plt.plot(data_GHZ)\n",
    "plt.plot(data_W)\n",
    "plt.plot(np.array(data_GHZ) - np.array(data_W))"
   ]
  },
  {
   "cell_type": "code",
   "execution_count": null,
   "id": "6ea1e7a6-9ab9-452b-b9d7-942e1249d00e",
   "metadata": {},
   "outputs": [],
   "source": [
    "np.matrix(random_state_vector(2**n))"
   ]
  },
  {
   "cell_type": "code",
   "execution_count": null,
   "id": "5fcdfeb8-9a77-4089-b147-a632311b8e9a",
   "metadata": {},
   "outputs": [],
   "source": [
    "samples = 100\n",
    "K = 5\n",
    "n = 7\n",
    "s = [1,3,4,5]\n",
    "s_ = [2,4,6]\n",
    "\n",
    "data_s = []\n",
    "data_s_ = []\n",
    "data = []\n",
    "for i in range(samples):\n",
    "    psi = np.matrix(np.matrix(random_state_vector(2**n)))\n",
    "    i1 = con_ent(s, K, psi)\n",
    "    i2 = con_ent(s_, K, psi)\n",
    "    data_s.append(i1)\n",
    "    data_s_.append(i2)\n",
    "    data.append(i1 - i2)\n",
    "\n",
    "plt.plot(data_s)\n",
    "plt.plot(data_s_)\n",
    "plt.plot(data)\n"
   ]
  },
  {
   "cell_type": "code",
   "execution_count": null,
   "id": "996d0073-72c9-422e-a9e2-bbd4c26d70d8",
   "metadata": {},
   "outputs": [],
   "source": [
    "samples = 100\n",
    "K = 10\n",
    "n = 6\n",
    "s = [1,3,4,5]\n",
    "s_ = [0,5]\n",
    "\n",
    "data_s = []\n",
    "data_s_ = []\n",
    "data_union = []\n",
    "data_plus = []\n",
    "for i in range(samples):\n",
    "    psi = np.matrix(np.matrix(random_state_vector(2**n)))\n",
    "    i1 = con_ent(s, K, psi)\n",
    "    i2 = con_ent(s_, K, psi)\n",
    "    i3 = con_ent(list(set(s).union(set(s_))), K, psi)\n",
    "    data_s.append(i1)\n",
    "    data_s_.append(i2)\n",
    "    data_union.append(i3)\n",
    "    data_plus.append((i1 + i2) - i3)\n",
    "\n",
    "plt.plot(data_s)\n",
    "plt.plot(data_s_)\n",
    "plt.plot(data_union)\n",
    "plt.plot(data_plus)"
   ]
  },
  {
   "cell_type": "code",
   "execution_count": null,
   "id": "ef7ee75e-c8d8-4f7c-89c1-62ba9ae75e30",
   "metadata": {},
   "outputs": [],
   "source": [
    "n = 5\n",
    "rho = np.matrix(random_density_matrix(2**n))\n",
    "sig = np.matrix(random_density_matrix(2**n))\n",
    "K = 10\n",
    "lhs = np.absolute(np.trace(sig**K-rho**K))\n",
    "\n",
    "summ = 0\n",
    "for i in range(K):\n",
    "    summ = summ + sig**i * rho**(K-1-i)\n",
    "rhs = np.absolute(np.trace((sig-rho)*summ))\n",
    "print(rhs)"
   ]
  },
  {
   "cell_type": "code",
   "execution_count": null,
   "id": "1c9f65e9-02d4-4f6f-80b2-7c127d0f5446",
   "metadata": {},
   "outputs": [],
   "source": [
    "summ = 0\n",
    "for i in range(K):\n",
    "    summ = summ + np.trace((sig-rho) * sig**i * rho**(K-1-i))\n",
    "rhs = np.absolute(summ)\n",
    "print(rhs)"
   ]
  },
  {
   "cell_type": "code",
   "execution_count": null,
   "id": "038b2ce1-7668-45d9-b488-5dc34f73b3de",
   "metadata": {},
   "outputs": [],
   "source": []
  },
  {
   "cell_type": "code",
   "execution_count": null,
   "id": "bc17e926-0060-41db-a024-20850d4faac9",
   "metadata": {},
   "outputs": [],
   "source": []
  },
  {
   "cell_type": "code",
   "execution_count": null,
   "id": "1a04409f-0e88-40c8-85ba-038c6cfd74fd",
   "metadata": {},
   "outputs": [],
   "source": [
    "def haar(n):\n",
    "    # n=4\n",
    "    u1 = unitary_group.rvs(n)\n",
    "    u2 = unitary_group.rvs(n)\n",
    "    Z = u1 + 1j * u2\n",
    "    Q, R = qr(Z)\n",
    "    Lambda = np.diag([R[i, i] / np.abs(R[i, i]) for i in range(n)])\n",
    "    return np.dot(Q, Lambda)"
   ]
  },
  {
   "cell_type": "code",
   "execution_count": null,
   "id": "644ad6c4-1eea-4114-a624-c99af53bd1be",
   "metadata": {},
   "outputs": [],
   "source": [
    "a = haar(4)\n",
    "a"
   ]
  },
  {
   "cell_type": "code",
   "execution_count": null,
   "id": "f16fca86-4ce0-4721-b8ef-8cee18c40cb7",
   "metadata": {},
   "outputs": [],
   "source": []
  },
  {
   "cell_type": "code",
   "execution_count": 61,
   "id": "39eac2e3-9648-4008-b178-cca4bbfe0c89",
   "metadata": {},
   "outputs": [],
   "source": [
    "import numpy as np\n",
    "from toqito.random import random_density_matrix\n",
    "from toqito.random import random_state_vector\n",
    "from scipy.linalg import sqrtm\n",
    "from toqito.states import ghz\n",
    "from toqito.channels import partial_trace\n",
    "import qiskit.quantum_info as qi\n",
    "from toqito.states import w_state\n",
    "from scipy.stats import unitary_group\n",
    "from numpy.linalg import qr\n",
    "import matplotlib.pyplot as plt\n",
    "from qiskit import QuantumCircuit, QuantumRegister, ClassicalRegister, execute\n",
    "from qiskit import Aer, transpile\n",
    "from qiskit.circuit import Parameter, ParameterVector\n",
    "import qiskit.quantum_info as qi\n",
    "from qiskit.providers.aer import AerSimulator\n",
    "from qiskit.quantum_info import SparsePauliOp\n",
    "from qiskit.circuit.library import PauliEvolutionGate\n",
    "from qiskit.quantum_info import state_fidelity, Statevector, random_statevector\n",
    "from scipy.linalg import expm\n",
    "from qiskit.visualization import plot_histogram\n",
    "import itertools"
   ]
  },
  {
   "cell_type": "markdown",
   "id": "b1a8dcb1-57c0-4e29-9bd0-bc666118f548",
   "metadata": {
    "tags": []
   },
   "source": [
    "## Circuit"
   ]
  },
  {
   "cell_type": "code",
   "execution_count": 2,
   "id": "2f81c719-d1ee-4af6-812b-7d7ff547db9f",
   "metadata": {
    "tags": []
   },
   "outputs": [],
   "source": [
    "\"\"\"\n",
    "correct concentratable entanglement \n",
    "s: indices\n",
    "K: \\rho power\n",
    "psi: input state\n",
    "\"\"\"\n",
    "\n",
    "def con_ent(s, K, psi):\n",
    "    rho = psi.H * psi\n",
    "    cs = len(s)\n",
    "    ps = powerset(s)\n",
    "    summ = 0\n",
    "    for i in range(len(ps)):\n",
    "        \n",
    "        alpha = ps[i]\n",
    "        alpha = list(set(s).difference(set(alpha)))\n",
    "        if alpha == []:\n",
    "            summ = summ + 1\n",
    "        else:\n",
    "            summ = summ + np.trace(np.matrix(qi.partial_trace(rho,alpha))**K)\n",
    "    result = 1 - 1 / 2**cs * summ\n",
    "    return result"
   ]
  },
  {
   "cell_type": "code",
   "execution_count": 3,
   "id": "bf5ec579-d989-4f7a-b507-4803c8a9eea4",
   "metadata": {
    "tags": []
   },
   "outputs": [],
   "source": [
    "\"\"\"\n",
    "powerset: find the powerset of s\n",
    "\"\"\"\n",
    "\n",
    "def powerset(s):\n",
    "    x = len(s)\n",
    "    result = []\n",
    "    for i in range(1 << x):\n",
    "        result.append([s[j] for j in range(x) if (i & (1 << j))])\n",
    "    return result"
   ]
  },
  {
   "cell_type": "code",
   "execution_count": 121,
   "id": "65d945a9-17a8-4b99-9a8c-e05ed9939bac",
   "metadata": {
    "tags": []
   },
   "outputs": [],
   "source": [
    "n = 3 # num of qubits in |psi>\n",
    "psi = random_statevector(2**n) # generate random |psi>"
   ]
  },
  {
   "cell_type": "code",
   "execution_count": 122,
   "id": "3ef633a7-81d9-4d41-a218-5212a1309379",
   "metadata": {
    "tags": []
   },
   "outputs": [
    {
     "data": {
      "image/png": "[encoded data removed]",
      "text/plain": [
       "<Figure size 1544.38x806.68 with 1 Axes>"
      ]
     },
     "execution_count": 122,
     "metadata": {},
     "output_type": "execute_result"
    }
   ],
   "source": [
    "K = 3 # num of copies\n",
    "\n",
    "# Construct the circuit\n",
    "qc_K = QuantumCircuit((K+1) * n, n)\n",
    "\n",
    "for i in range(n):\n",
    "    qc_K.h(i)\n",
    "    \n",
    "for i in range(K):\n",
    "    qc_K.initialize(psi, [np.arange(n) + (i+1)*n])\n",
    "    \n",
    "qc_K.barrier()\n",
    "\n",
    "for parallel in range(n):\n",
    "    for p in range(K-1):\n",
    "        qc_K.cswap(parallel, parallel + n + p * n, parallel + n + (p+1) * n)\n",
    "    qc_K.barrier()\n",
    "\n",
    "for i in range(n):\n",
    "    qc_K.h(i)\n",
    "\n",
    "qc_K.draw('mpl')"
   ]
  },
  {
   "cell_type": "code",
   "execution_count": 124,
   "id": "7370b49b-fb11-4011-a653-de3b5bb41570",
   "metadata": {},
   "outputs": [
    {
     "name": "stdout",
     "output_type": "stream",
     "text": [
      "string =  ['000', '001', '010', '011', '100', '101', '110', '111']\n",
      "probs =  [0.71949584 0.02353564 0.03863192 0.02804628 0.04449567 0.04563755\n",
      " 0.09092638 0.00923072]\n",
      "{'000': 0.7194958436198007, '001': 0.023535639586169544, '010': 0.038631916705839785, '011': 0.028046277915796298, '100': 0.044495673396883484, '101': 0.045637547988927406, '110': 0.0909263793479382, '111': 0.009230721438645147}\n",
      "s = [0] test =  0.10645018692953778 real =  (0.10645018692953823+1.4094628242311558e-17j) diff =  -4.440892098500626e-16\n",
      "s = [1] test =  0.16683529540821895 real =  (0.16683529540821906+2.0599841277224584e-17j) diff =  -1.1102230246251565e-16\n",
      "s = [0, 1] test =  0.2317879022550755 real =  (0.23178790225507562+2.3635607360183997e-17j) diff =  -1.1102230246251565e-16\n",
      "s = [2] test =  0.19029032217239372 real =  (0.19029032217239383+1.452830911130576e-17j) diff =  -1.1102230246251565e-16\n",
      "s = [0, 2] test =  0.2317879022550755 real =  (0.2317879022550755+2.0057740190981832e-17j) diff =  0.0\n",
      "s = [1, 2] test =  0.2317879022550755 real =  (0.2317879022550755+3.144186300207963e-17j) diff =  0.0\n",
      "s = [0, 1, 2] test =  0.2317879022550755 real =  (0.2317879022550755+2.887119415031471e-17j) diff =  0.0\n"
     ]
    }
   ],
   "source": [
    "# define simulator\n",
    "simulator = Aer.get_backend('statevector_simulator')\n",
    "outputstate = simulator.run(qc_K, shots = 1).result().get_statevector()\n",
    "probs = Statevector(outputstate).probabilities([k for k in range(n)])\n",
    "# probs = np.round(probs, 10)\n",
    "\n",
    "str_list = []\n",
    "for i in range(2**n):\n",
    "    a = '{:0' + str(n) + 'b}'\n",
    "    str_list.append(a.format(i))\n",
    "print('string = ', str_list)\n",
    "print('probs = ', probs)\n",
    "print(dict(zip(str_list, probs)))\n",
    "\n",
    "s_all = list(range(n))\n",
    "ps = powerset(s_all)\n",
    "ps.remove([])\n",
    "\n",
    "\n",
    "for s in ps:\n",
    "    summ = 0\n",
    "    for i in range(len(str_list)):\n",
    "        string_ele = str_list[i][::-1]\n",
    "        s_index = [string_ele[_] for _ in s]\n",
    "        s_index = ''.join(s_index)\n",
    "        \n",
    "        \"\"\"\n",
    "        Original Pattern (all 0 on s)\n",
    "        \"\"\"\n",
    "        \n",
    "        # if s_index == '0' * len(s):\n",
    "        #     summ = summ + probs[i]\n",
    "        \n",
    "        \"\"\"\n",
    "        Weird Pattern\n",
    "        \"\"\"\n",
    "        \n",
    "        if len(s) == 1:\n",
    "            if s_index == '0' * len(s):\n",
    "                summ = summ + probs[i]\n",
    "            else:\n",
    "                pass          \n",
    "        elif len(s) >= 2:\n",
    "            if s_index == '0' * len(s) and string_ele.count('1') % 2 == 0:\n",
    "                summ = summ + probs[i]\n",
    "            elif string_ele.count('1') % 2 == 1:\n",
    "                summ = summ + (-1) ** (((string_ele.count('1') - 1) / 2 ) % 2) * probs[i] / 2 \n",
    "\n",
    "    ent_test_K = 1-summ\n",
    "    # print('test = ', ent_test_K)\n",
    "    ent_real_K = con_ent(s, K, np.matrix(psi))\n",
    "    # print('real = ', ent_real_K)\n",
    "    diff_K = np.real(ent_test_K - ent_real_K)\n",
    "    print('s =', s, 'test = ', ent_test_K, 'real = ', ent_real_K, 'diff = ', diff_K)"
   ]
  },
  {
   "cell_type": "code",
   "execution_count": null,
   "id": "95075aa5-654c-425f-a5e0-53e1161c3380",
   "metadata": {},
   "outputs": [],
   "source": []
  }
 ],
 "metadata": {
  "kernelspec": {
   "display_name": "Python 3 (ipykernel)",
   "language": "python",
   "name": "python3"
  },
  "language_info": {
   "codemirror_mode": {
    "name": "ipython",
    "version": 3
   },
   "file_extension": ".py",
   "mimetype": "text/x-python",
   "name": "python",
   "nbconvert_exporter": "python",
   "pygments_lexer": "ipython3",
   "version": "3.9.12"
  }
 },
 "nbformat": 4,
 "nbformat_minor": 5
}
