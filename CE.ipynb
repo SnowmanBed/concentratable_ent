{
 "cells": [
  {
   "cell_type": "markdown",
   "metadata": {
    "notebookRunGroups": {
     "groupValue": ""
    }
   },
   "source": [
    "**Concentratable Entanglement** "
   ]
  },
  {
   "cell_type": "code",
   "execution_count": 2,
   "metadata": {},
   "outputs": [],
   "source": [
    "import numpy as np\n",
    "import math, cmath\n",
    "from itertools import chain, combinations\n",
    "from qiskit import QuantumRegister, ClassicalRegister, QuantumCircuit, Aer, execute\n",
    "from qiskit.quantum_info import DensityMatrix, Operator, Statevector\n",
    "\n",
    "def power_set(input_list):\n",
    "    '''Get the power set of the input set\n",
    "       (For simplicity, we deal with list instead of set)\n",
    "    '''\n",
    "    # Use chain.from_iterable and combinations to generate the power set\n",
    "    power_list = list(chain.from_iterable(combinations(input_list, r) for r in range(len(input_list)+1)))\n",
    "    return power_list\n",
    "\n",
    "def qiskit_shit(matrix):\n",
    "    '''Map the operator martrix accross the off-diagonal to make it compatitble with Qiskit\n",
    "    Example:\n",
    "        Input:  [[2, 2, 2, 2, 0],\n",
    "                 [2, 2, 2, 0, 1],\n",
    "                 [2, 2, 0, 1, 1],\n",
    "                 [2, 0, 1, 1, 1],\n",
    "                 [0, 1, 1, 1, 1]]\n",
    "        Output: [[1, 1, 1, 1, 0],\n",
    "                 [1, 1, 1, 0, 2],\n",
    "                 [1, 1, 0, 2, 2],\n",
    "                 [1, 0, 2, 2, 2],\n",
    "                 [0, 2, 2, 2, 2]]\n",
    "    '''\n",
    "\n",
    "    n = matrix.shape[0]\n",
    "\n",
    "    # Iterate over the upper triangle of the matrix\n",
    "    for i in range(n-1):\n",
    "        for j in range(0, n-i-1):\n",
    "            # Swap symmetric elements across the off-diagonal\n",
    "            matrix[i, j], matrix[-j-1, -i-1] = matrix[-j-1, -i-1], matrix[i, j]\n",
    "\n",
    "    return matrix\n",
    "\n",
    "def qiskit_statevec_map(statevec_qiskit, N):\n",
    "    '''Qiskit orders qubits in a endian way, \n",
    "       this function is used to convert a state vector that written in endian ordering to a normal ordering\n",
    "    '''\n",
    "    statevec_qiskit = np.array(statevec_qiskit)\n",
    "    statevec_normal = np.zeros_like(statevec_qiskit, dtype=complex)\n",
    "    \n",
    "    for i in range(2**N):\n",
    "        binary_index = format(i, f'0{N}b')  # Convert the index to an N-bit binary string\n",
    "        reversed_index = int(binary_index[::-1], 2)  # Reverse the binary string and convert it back to an integer\n",
    "        \n",
    "        statevec_normal[reversed_index] = statevec_qiskit[i]\n",
    "\n",
    "    return Statevector(statevec_normal)\n",
    "\n",
    "\n",
    "def fourier_trans(K, dagger=False):\n",
    "    '''Get the matrix representation of Fourier transform operator and its inverse\n",
    "    Args:\n",
    "        K: number of levels of the qudit\n",
    "        dagger: Ture -> inverse Fourier transform\n",
    "                False -> Fourier transform\n",
    "    Yields: matrix representation of FT and IFT\n",
    "        \n",
    "    '''\n",
    "\n",
    "    L = math.ceil(math.log2(K)) # number of qubits to represent one K-level qudit\n",
    "\n",
    "    w = cmath.exp(2*cmath.pi*1j/K)\n",
    "    if dagger:\n",
    "        w = cmath.exp(-2*cmath.pi*1j/K)\n",
    "\n",
    "    F_tmp = np.ones((K,K), dtype=complex)\n",
    "    for i in range(K):\n",
    "        for j in range(K):\n",
    "            F_tmp[i,j] = w**(i*j)\n",
    "\n",
    "    F = 1/(K**0.5)*F_tmp\n",
    "    I = np.identity(2**L-K)\n",
    "\n",
    "    return np.block([[F, np.zeros((K,2**L-K))],\n",
    "                   [np.zeros((2**L-K,K)), I]])\n",
    "\n",
    "\n",
    "def cyc_determine(m, t_row, t_col, K):\n",
    "    '''Determine if one binary string can be shifted to another one by m steps\n",
    "    Args:\n",
    "        m: index of the basis of the ancilla qudit\n",
    "        (t_row, t_col): index of element of matrix (in basis of target qubits)\n",
    "        K: number of bits of the binary expression of t_row and t_col\n",
    "    Yields:\n",
    "        value: the value of the element at (t_row, t_col) \n",
    "    '''\n",
    "    # m, t_row, t_col are all decimal integers\n",
    "    ttt_row = bin(t_row).replace('0b', '') # t'\n",
    "    ttt_row = ttt_row.zfill(K)\n",
    "    ttt_col = bin(t_col).replace('0b', '') # t\n",
    "    ttt_col = ttt_col.zfill(K)\n",
    "\n",
    "    value = 0\n",
    "    if ttt_row == ttt_col[m:] + ttt_col[:m]:\n",
    "        value = 1\n",
    "    \n",
    "    return value\n",
    "\n",
    "def sub_block(m, K):\n",
    "    '''Get the m-th block matrix of the the matrix representation of the controlled cyclic operator\n",
    "    Args:\n",
    "        m: index of the basis of the ancilla qudit\n",
    "        K: number of bits of the binary expression of t_row and t_col\n",
    "    Yields:\n",
    "        block: m-th block matrix\n",
    "    '''\n",
    "    block = np.zeros((2**K,2**K))\n",
    "    for i in range(2**K):\n",
    "        for j in range(2**K):\n",
    "            block[i,j] = cyc_determine(m, i, j, K)\n",
    "            \n",
    "    return block\n",
    "\n",
    "def direct_sum(*matrices):\n",
    "    '''Get the direct sum of all the input square matrices'''\n",
    "    \n",
    "    # Get the size of the resulting matrix\n",
    "    total_size = sum(matrix.shape[0] for matrix in matrices)\n",
    "    result_matrix = np.zeros((total_size, total_size), dtype=matrices[0].dtype)\n",
    "\n",
    "    # Populate the block diagonal matrix\n",
    "    current_row, current_col = 0, 0\n",
    "    for matrix in matrices:\n",
    "        size = matrix.shape[0]\n",
    "        result_matrix[current_row:current_row+size, current_col:current_col+size] = matrix\n",
    "        current_row += size\n",
    "        current_col += size\n",
    "\n",
    "    return result_matrix\n",
    "\n",
    "\n",
    "# controlled cyclic permutations\n",
    "def control_cyclic_perm(L, K):\n",
    "    '''Get the matrix representation of the controlled cyclic operator'''\n",
    "    \n",
    "    block_dict = {}\n",
    "\n",
    "    for m in range(2**L):\n",
    "        ccc = bin(m).replace('0b', '')\n",
    "        block_dict[ccc.zfill(L)] = sub_block(m, K)\n",
    "\n",
    "    return direct_sum(*block_dict.values())"
   ]
  },
  {
   "cell_type": "code",
   "execution_count": 3,
   "metadata": {},
   "outputs": [],
   "source": [
    "N = 3 # number of qubits of each state |\\psi>, also number of qudits required\n",
    "K = 3 # number of levels of the qudit, also number of copies of state |\\psi>\n",
    "L = math.ceil(math.log2(K)) # number of qubits to represent one K-level qudit\n",
    "\n",
    "psi_state = qiskit_statevec_map( Statevector([1/2**0.5, 0, 0, 0, 0, 0, 0, 1/2**0.5]), N )\n",
    "\n",
    "# Name the N ancilla qudits, each of which is encoded by L qubits\n",
    "ancilla_qudits = {}\n",
    "for i in range(N):\n",
    "    qudit_index = f\"qudit_{i}\"\n",
    "    ancilla_qudits[qudit_index] = QuantumRegister(L, 'ancilla qudit '+str(i)) \n",
    "\n",
    "# Name the N L-bit classical bits, which is for storing the measurement results of the N ancilla qudits\n",
    "classical_bits = {}\n",
    "for i in range(N):\n",
    "    cbit_index = f\"cbit_{i}\"\n",
    "    classical_bits[cbit_index] = ClassicalRegister(L, 'classical bit '+str(i)) \n",
    "\n",
    "# Name the K copies of each N-qubit state |\\psi>\n",
    "copies = {}\n",
    "for i in range(K):\n",
    "    copy_index = f\"copy_{i}\"\n",
    "    copies[copy_index] = QuantumRegister(N, 'copy '+str(i)) \n",
    "\n",
    "# Define Fourier transform and its inverse operator for qudits\n",
    "FT = Operator(fourier_trans(K, dagger=False)).to_instruction()\n",
    "FT.label = \"   FT  \"\n",
    "FT_dagger = Operator(fourier_trans(K, dagger=True)).to_instruction()\n",
    "FT_dagger.label = \"   IFT  \"\n",
    "\n",
    "# Define the qudit-controlled cyclic permutation operator\n",
    "CCP = Operator(control_cyclic_perm(L, K)).to_instruction()\n",
    "CCP.label = \"   CCP  \""
   ]
  },
  {
   "cell_type": "code",
   "execution_count": 4,
   "metadata": {},
   "outputs": [
    {
     "data": {
      "image/png": "[encoded data removed]",
      "text/plain": [
       "<Figure size 1364.96x1107.68 with 1 Axes>"
      ]
     },
     "execution_count": 4,
     "metadata": {},
     "output_type": "execute_result"
    }
   ],
   "source": [
    "# Write the quantum circuit\n",
    "qc = QuantumCircuit(*ancilla_qudits.values(), *copies.values(), *classical_bits.values()) \n",
    "\n",
    "# Initialize the psi states\n",
    "for i in range(K):\n",
    "    qc.initialize(psi_state, copies['copy_'+str(i)])\n",
    "\n",
    "# Fourier Transform on ancillas\n",
    "for i in range(N):\n",
    "    qc.append(FT, ancilla_qudits['qudit_'+str(i)][::-1])\n",
    "qc.barrier(*ancilla_qudits.values(), *copies.values())\n",
    "\n",
    "# Controlled cyclic permutation operators\n",
    "for i in range(N):  \n",
    "    register_index_tmp = []\n",
    "    for j in range(K):\n",
    "        register_index_tmp.append(copies['copy_'+str(j)][i])\n",
    "        register_index = ancilla_qudits['qudit_'+str(i)][0:L] + register_index_tmp\n",
    "    qc.append(CCP, register_index[::-1])\n",
    "qc.barrier(*ancilla_qudits.values(), *copies.values())\n",
    "\n",
    "# Inverse Fourier Transform on ancillas\n",
    "for i in range(N):\n",
    "    qc.append(FT_dagger, ancilla_qudits['qudit_'+str(i)][::-1])\n",
    "\n",
    "# Measure ancillas\n",
    "for i in range(N):\n",
    "    qc.measure(ancilla_qudits['qudit_'+str(i)], classical_bits['cbit_'+str(i)])\n",
    "\n",
    "qc.draw('mpl')"
   ]
  },
  {
   "cell_type": "code",
   "execution_count": 5,
   "metadata": {},
   "outputs": [
    {
     "data": {
      "text/plain": [
       "{'00 10 01': 62,\n",
       " '01 01 01': 85,\n",
       " '01 00 10': 95,\n",
       " '10 00 01': 90,\n",
       " '10 01 00': 81,\n",
       " '00 01 10': 84,\n",
       " '10 10 10': 78,\n",
       " '00 00 00': 336,\n",
       " '01 10 00': 89}"
      ]
     },
     "execution_count": 5,
     "metadata": {},
     "output_type": "execute_result"
    }
   ],
   "source": [
    "num_of_shots = 1000\n",
    "\n",
    "backend = Aer.get_backend('statevector_simulator')\n",
    "job = execute(qc, backend, shots=num_of_shots)\n",
    "result = job.result().get_counts()\n",
    "result\n"
   ]
  },
  {
   "cell_type": "code",
   "execution_count": 6,
   "metadata": {},
   "outputs": [],
   "source": [
    "def compute_CE(set_of_interest, result, num_of_shots):\n",
    "    '''Calculate the CE given the measurement results of the circuits'''\n",
    "\n",
    "    new_result = {}\n",
    "    for binary_key in result:\n",
    "        # Convert the qubit measurement outcome to qudit measurement outcome (z strings)\n",
    "        digital_key = tuple([int(substring[::-1], 2) for substring in binary_key.split()]) \n",
    "        new_result[digital_key[::-1]] = result[binary_key] # Reverse the measurement outcome in terms of qudit order beacuse Qiskit use endian order\n",
    "\n",
    "    count = 0 # number of z strings of ineterest\n",
    "    for z_string in new_result:\n",
    "        tmp = sum(z_string[index] for index in set_of_interest)\n",
    "        if tmp % K == 0:\n",
    "            count += new_result[z_string]\n",
    "\n",
    "    return count/num_of_shots, new_result\n",
    "\n"
   ]
  },
  {
   "cell_type": "code",
   "execution_count": 11,
   "metadata": {},
   "outputs": [
    {
     "data": {
      "text/plain": [
       "(0.482,\n",
       " {(2, 1, 0): 62,\n",
       "  (2, 2, 2): 85,\n",
       "  (1, 0, 2): 95,\n",
       "  (2, 0, 1): 90,\n",
       "  (0, 2, 1): 81,\n",
       "  (1, 2, 0): 84,\n",
       "  (1, 1, 1): 78,\n",
       "  (0, 0, 0): 336,\n",
       "  (0, 1, 2): 89})"
      ]
     },
     "execution_count": 11,
     "metadata": {},
     "output_type": "execute_result"
    }
   ],
   "source": [
    "S = list(range(N)) # Set of labels for each qubit of psi_state\n",
    "set_of_interest = [0,1] # Set of labels of qubits of interest in terms of CE\n",
    "alpha = power_set(set_of_interest)\n",
    "\n",
    "compute_CE(set_of_interest, result, num_of_shots)"
   ]
  },
  {
   "cell_type": "code",
   "execution_count": 106,
   "metadata": {},
   "outputs": [
    {
     "name": "stdout",
     "output_type": "stream",
     "text": [
      "12\n"
     ]
    }
   ],
   "source": [
    "integers = [1, 2, 3, 4, 5, 6, 7, 8, 9]\n",
    "index_list = [1, 3, 5]\n",
    "\n",
    "# Get the sum of elements at specified indices\n",
    "sum_of_selected = sum(integers[i] for i in index_list)\n",
    "\n",
    "print(sum_of_selected)\n"
   ]
  },
  {
   "cell_type": "code",
   "execution_count": 105,
   "metadata": {},
   "outputs": [
    {
     "data": {
      "text/plain": [
       "2"
      ]
     },
     "execution_count": 105,
     "metadata": {},
     "output_type": "execute_result"
    }
   ],
   "source": [
    "10%4"
   ]
  },
  {
   "cell_type": "code",
   "execution_count": 94,
   "metadata": {},
   "outputs": [
    {
     "data": {
      "text/plain": [
       "{(0, 1, 2): 2, (1, 2, 0): 2, (1, 1, 1): 2, (1, 0, 2): 2, (0, 0, 0): 2}"
      ]
     },
     "execution_count": 94,
     "metadata": {},
     "output_type": "execute_result"
    }
   ],
   "source": [
    "new_result"
   ]
  },
  {
   "cell_type": "code",
   "execution_count": 75,
   "metadata": {},
   "outputs": [
    {
     "name": "stdout",
     "output_type": "stream",
     "text": [
      "010 110 000\n",
      "010 001 001\n",
      "001 000 100\n",
      "001 001 010\n",
      "100 000 001\n",
      "001 010 001\n",
      "001 110 110\n",
      "100 010 010\n"
     ]
    }
   ],
   "source": [
    "for binary_key in result:\n",
    "    print(binary_key)"
   ]
  },
  {
   "cell_type": "code",
   "execution_count": 65,
   "metadata": {},
   "outputs": [
    {
     "data": {
      "text/plain": [
       "['01', '10', '00']"
      ]
     },
     "execution_count": 65,
     "metadata": {},
     "output_type": "execute_result"
    }
   ],
   "source": [
    "binary_string.split()"
   ]
  },
  {
   "cell_type": "code",
   "execution_count": 60,
   "metadata": {},
   "outputs": [
    {
     "data": {
      "text/plain": [
       "qiskit.result.counts.Counts"
      ]
     },
     "execution_count": 60,
     "metadata": {},
     "output_type": "execute_result"
    }
   ],
   "source": [
    "type(result)"
   ]
  },
  {
   "cell_type": "code",
   "execution_count": 59,
   "metadata": {},
   "outputs": [
    {
     "data": {
      "text/plain": [
       "82"
      ]
     },
     "execution_count": 59,
     "metadata": {},
     "output_type": "execute_result"
    }
   ],
   "source": [
    "result['01 10 00']"
   ]
  },
  {
   "cell_type": "code",
   "execution_count": 29,
   "metadata": {},
   "outputs": [],
   "source": [
    "S = list(range(N)) # Set of labels for each qubit of psi_state\n",
    "s = [0, 1] # Set of labels of qubits of interest in terms of CE\n",
    "alpha = power_set(s)"
   ]
  },
  {
   "cell_type": "code",
   "execution_count": 30,
   "metadata": {},
   "outputs": [
    {
     "data": {
      "text/plain": [
       "[(), (0,), (1,), (0, 1)]"
      ]
     },
     "execution_count": 30,
     "metadata": {},
     "output_type": "execute_result"
    }
   ],
   "source": [
    "alpha"
   ]
  },
  {
   "cell_type": "code",
   "execution_count": 20,
   "metadata": {},
   "outputs": [
    {
     "data": {
      "text/plain": [
       "[0, 1, 2]"
      ]
     },
     "execution_count": 20,
     "metadata": {},
     "output_type": "execute_result"
    }
   ],
   "source": [
    "list(range(3))"
   ]
  },
  {
   "cell_type": "code",
   "execution_count": 81,
   "metadata": {},
   "outputs": [
    {
     "data": {
      "text/html": [
       "<pre style=\"word-wrap: normal;white-space: pre;background: #fff0;line-height: 1.1;font-family: &quot;Courier New&quot;,Courier,monospace\">     ┌───┐ ░ ┌─┐      \n",
       "q_0: ┤ X ├─░─┤M├──────\n",
       "     └───┘ ░ └╥┘┌─┐   \n",
       "q_1: ──────░──╫─┤M├───\n",
       "           ░  ║ └╥┘┌─┐\n",
       "q_2: ──────░──╫──╫─┤M├\n",
       "           ░  ║  ║ └╥┘\n",
       "c: 3/═════════╩══╩══╩═\n",
       "              0  1  2 </pre>"
      ],
      "text/plain": [
       "     ┌───┐ ░ ┌─┐      \n",
       "q_0: ┤ X ├─░─┤M├──────\n",
       "     └───┘ ░ └╥┘┌─┐   \n",
       "q_1: ──────░──╫─┤M├───\n",
       "           ░  ║ └╥┘┌─┐\n",
       "q_2: ──────░──╫──╫─┤M├\n",
       "           ░  ║  ║ └╥┘\n",
       "c: 3/═════════╩══╩══╩═\n",
       "              0  1  2 "
      ]
     },
     "execution_count": 81,
     "metadata": {},
     "output_type": "execute_result"
    }
   ],
   "source": [
    "from qiskit import QuantumCircuit\n",
    "from qiskit import Aer, execute\n",
    "\n",
    "cr = ClassicalRegister(3, 'c')\n",
    "qr = QuantumRegister(3, 'q')\n",
    "\n",
    "circuit = QuantumCircuit(qr, cr)\n",
    "circuit.x(0)\n",
    "circuit.barrier()\n",
    "\n",
    "circuit.measure(qr, cr)\n",
    "\n",
    "circuit.draw()"
   ]
  },
  {
   "cell_type": "code",
   "execution_count": 82,
   "metadata": {},
   "outputs": [
    {
     "data": {
      "text/plain": [
       "{'001': 1}"
      ]
     },
     "execution_count": 82,
     "metadata": {},
     "output_type": "execute_result"
    }
   ],
   "source": [
    "backend = Aer.get_backend('statevector_simulator')\n",
    "job = execute(circuit, backend)\n",
    "result = job.result().get_counts()\n",
    "result"
   ]
  },
  {
   "cell_type": "code",
   "execution_count": 165,
   "metadata": {},
   "outputs": [
    {
     "data": {
      "image/png": "[encoded data removed]",
      "text/plain": [
       "<Figure size 730.128x325.08 with 1 Axes>"
      ]
     },
     "execution_count": 165,
     "metadata": {},
     "output_type": "execute_result"
    }
   ],
   "source": [
    "anc = QuantumRegister(1, 'ancilla')\n",
    "\n",
    "\n",
    "qr = QuantumRegister(3, 'q')\n",
    "anc = QuantumRegister(1, 'ancilla')\n",
    "cr = ClassicalRegister(3, 'c')\n",
    "qc = QuantumCircuit(qr, anc, cr)\n",
    " \n",
    "qc.x(anc[0])\n",
    "qc.h(anc[0])\n",
    "qc.h(qr[0:3])\n",
    "qc.cx(qr[0:3], anc[0])\n",
    "qc.h(qr[0:3])\n",
    "qc.barrier(qr)\n",
    "qc.measure(qr, cr)\n",
    " \n",
    "qc.draw('mpl')"
   ]
  },
  {
   "cell_type": "code",
   "execution_count": 5,
   "metadata": {},
   "outputs": [],
   "source": [
    "def tenToAny(origin, N, n):\n",
    "    # 10进制转换为n进制list\n",
    "    list = []\n",
    "    while True:\n",
    "        s = origin // n\n",
    "        tmp = origin % n\n",
    "        list.append(tmp)\n",
    "        if s == 0:\n",
    "            break\n",
    "        origin = s\n",
    "    list.reverse()\n",
    "    list = [str(each) for each in list]\n",
    "    while len(list) < N:\n",
    "        list.insert(0,'0')\n",
    "    return list"
   ]
  },
  {
   "cell_type": "code",
   "execution_count": null,
   "metadata": {},
   "outputs": [],
   "source": [
    "def cyc_determine(m, t_row, t_col, K):\n",
    "    '''Determine if one binary string can be shifted to another one by m steps\n",
    "    Args:\n",
    "        m: index of the basis of the ancilla qudit\n",
    "        (t_row, t_col): index of element of matrix (in basis of target qubits)\n",
    "        K: number of bits of the binary expression of t_row and t_col\n",
    "    Yields:\n",
    "        value: the value of the element at (t_row, t_col) \n",
    "    '''\n",
    "    # m, t_row, t_col are all decimal integers\n",
    "    ttt_row = bin(t_row).replace('0b', '') # t'\n",
    "    ttt_row = ttt_row.zfill(K)\n",
    "    ttt_col = bin(t_col).replace('0b', '') # t\n",
    "    ttt_col = ttt_col.zfill(K)\n",
    "\n",
    "    value = 0\n",
    "    if ttt_row == ttt_col[m:] + ttt_col[:m]:\n",
    "        value = 1\n",
    "    \n",
    "    return value\n",
    "\n",
    "def sub_block(m, K):\n",
    "    '''Get the m-th block matrix of the the matrix representation of the controlled cyclic operator\n",
    "    Args:\n",
    "        m: index of the basis of the ancilla qudit\n",
    "        K: number of bits of the binary expression of t_row and t_col\n",
    "    Yields:\n",
    "        block: m-th block matrix\n",
    "    '''\n",
    "    block = np.zeros((2**K,2**K))\n",
    "    for i in range(2**K):\n",
    "        for j in range(2**K):\n",
    "            block[i,j] = cyc_determine(m, i, j, K)\n",
    "            \n",
    "    return block\n",
    "\n",
    "def direct_sum(*matrices):\n",
    "    '''Get the direct sum of all the input square matrices'''\n",
    "    \n",
    "    # Get the size of the resulting matrix\n",
    "    total_size = sum(matrix.shape[0] for matrix in matrices)\n",
    "    result_matrix = np.zeros((total_size, total_size), dtype=matrices[0].dtype)\n",
    "\n",
    "    # Populate the block diagonal matrix\n",
    "    current_row, current_col = 0, 0\n",
    "    for matrix in matrices:\n",
    "        size = matrix.shape[0]\n",
    "        result_matrix[current_row:current_row+size, current_col:current_col+size] = matrix\n",
    "        current_row += size\n",
    "        current_col += size\n",
    "\n",
    "    return result_matrix\n",
    "\n",
    "\n",
    "# controlled cyclic permutations\n",
    "def control_cyclic_perm(L, K):\n",
    "    '''Get the matrix representation of the controlled cyclic operator'''\n",
    "    \n",
    "    block_dict = {}\n",
    "\n",
    "    for m in range(2**L):\n",
    "        ccc = bin(m).replace('0b', '')\n",
    "        block_dict[ccc.zfill(L)] = sub_block(m, K)\n",
    "\n",
    "    return direct_sum(*block_dict.values())"
   ]
  },
  {
   "cell_type": "code",
   "execution_count": 10,
   "metadata": {},
   "outputs": [],
   "source": [
    "def cyc_determine(m, t_row, t_col, K):\n",
    "   \n",
    "\n",
    "    # m, t_row, t_col are all decimal integers\n",
    "\n",
    "    ttt_row = bin(t_row).replace('0b', '') # t'\n",
    "    ttt_row = ttt_row.zfill(K)\n",
    "\n",
    "    ttt_col = bin(t_col).replace('0b', '') # t\n",
    "    ttt_col = ttt_col.zfill(K)\n",
    "\n",
    "    value = 0\n",
    "    if ttt_row == ttt_col[m:] + ttt_col[:m]:\n",
    "        value = 1\n",
    "    \n",
    "    return value\n"
   ]
  },
  {
   "cell_type": "code",
   "execution_count": 7,
   "metadata": {},
   "outputs": [],
   "source": [
    "def sub_block(m, K):\n",
    "    \n",
    "    block = np.zeros((2**K,2**K))\n",
    "    for i in range(2**K):\n",
    "        for j in range(2**K):\n",
    "            block[i,j] = cyc_determine(m, i, j, K)\n",
    "\n",
    "    return block\n"
   ]
  },
  {
   "cell_type": "code",
   "execution_count": 11,
   "metadata": {},
   "outputs": [
    {
     "data": {
      "text/plain": [
       "(8, 8)"
      ]
     },
     "execution_count": 11,
     "metadata": {},
     "output_type": "execute_result"
    }
   ],
   "source": [
    "kk = sub_block(2, K)\n",
    "\n",
    "kk.shape"
   ]
  },
  {
   "cell_type": "code",
   "execution_count": 12,
   "metadata": {},
   "outputs": [
    {
     "name": "stdout",
     "output_type": "stream",
     "text": [
      "[[ 1  2  4  0  0  0  0]\n",
      " [ 3  4  4  0  0  0  0]\n",
      " [ 1  2  4  0  0  0  0]\n",
      " [ 0  0  0  5  6  0  0]\n",
      " [ 0  0  0  7  8  0  0]\n",
      " [ 0  0  0  0  0  9 10]\n",
      " [ 0  0  0  0  0 11 12]]\n"
     ]
    }
   ],
   "source": [
    "def direct_sum(*matrices):\n",
    "    '''Get the direct sum of all the input square matrices'''\n",
    "    \n",
    "    # Get the size of the resulting matrix\n",
    "    total_size = sum(matrix.shape[0] for matrix in matrices)\n",
    "    result_matrix = np.zeros((total_size, total_size), dtype=matrices[0].dtype)\n",
    "\n",
    "    # Populate the block diagonal matrix\n",
    "    current_row, current_col = 0, 0\n",
    "    for matrix in matrices:\n",
    "        size = matrix.shape[0]\n",
    "        result_matrix[current_row:current_row+size, current_col:current_col+size] = matrix\n",
    "        current_row += size\n",
    "        current_col += size\n",
    "\n",
    "    return result_matrix\n",
    "\n",
    "# Example usage\n",
    "A = np.array([[1, 2, 4],\n",
    "              [3, 4, 4],\n",
    "              [1, 2, 4]])\n",
    "\n",
    "B = np.array([[5, 6],\n",
    "              [7, 8]])\n",
    "\n",
    "C = np.array([[9, 10],\n",
    "              [11, 12]])\n",
    "\n",
    "result = direct_sum(A, B, C)\n",
    "print(result)\n"
   ]
  },
  {
   "cell_type": "code",
   "execution_count": 13,
   "metadata": {},
   "outputs": [],
   "source": [
    "# controlled cyclic permutations\n",
    "\n",
    "def control_cyclic_perm(L, K):\n",
    "    \n",
    "    block_dict = {}\n",
    "\n",
    "    for m in range(2**L):\n",
    "        ccc = bin(m).replace('0b', '')\n",
    "        block_dict[ccc.zfill(L)] = sub_block(m, K)\n",
    "\n",
    "    return direct_sum(*block_dict.values())\n",
    "    "
   ]
  },
  {
   "cell_type": "code",
   "execution_count": 14,
   "metadata": {},
   "outputs": [
    {
     "data": {
      "text/plain": [
       "(32, 32)"
      ]
     },
     "execution_count": 14,
     "metadata": {},
     "output_type": "execute_result"
    }
   ],
   "source": [
    "a = control_cyclic_perm(L, K)\n",
    "a.shape"
   ]
  },
  {
   "cell_type": "code",
   "execution_count": 24,
   "metadata": {},
   "outputs": [
    {
     "data": {
      "text/html": [
       "<pre style=\"word-wrap: normal;white-space: pre;background: #fff0;line-height: 1.1;font-family: &quot;Courier New&quot;,Courier,monospace\">        ┌───────┐┌──────────┐ ░ ┌─┐   \n",
       "   q_0: ┤ Rx(π) ├┤1         ├─░─┤M├───\n",
       "        └───────┘│  Unitary │ ░ └╥┘┌─┐\n",
       "   q_1: ─────────┤0         ├─░──╫─┤M├\n",
       "                 └──────────┘ ░  ║ └╥┘\n",
       "meas: 2/═════════════════════════╩══╩═\n",
       "                                 0  1 </pre>"
      ],
      "text/plain": [
       "        ┌───────┐┌──────────┐ ░ ┌─┐   \n",
       "   q_0: ┤ Rx(π) ├┤1         ├─░─┤M├───\n",
       "        └───────┘│  Unitary │ ░ └╥┘┌─┐\n",
       "   q_1: ─────────┤0         ├─░──╫─┤M├\n",
       "                 └──────────┘ ░  ║ └╥┘\n",
       "meas: 2/═════════════════════════╩══╩═\n",
       "                                 0  1 "
      ]
     },
     "execution_count": 24,
     "metadata": {},
     "output_type": "execute_result"
    }
   ],
   "source": [
    "N = 2\n",
    "\n",
    "circ = QuantumCircuit(2)\n",
    "\n",
    "mat = np.zeros((2 * 2, 2 * 2))\n",
    "mat[0, 0] = 1\n",
    "mat[1, 1] = 1\n",
    "mat[2, 3] = 1\n",
    "mat[3, 2] = 1\n",
    "\n",
    "CNOT = Operator(mat)\n",
    "circ.rx(math.pi, 0)\n",
    "circ.append(CNOT, [1,0])\n",
    "\n",
    "circ.measure_all()\n",
    "\n",
    "circ.draw()"
   ]
  },
  {
   "cell_type": "code",
   "execution_count": 25,
   "metadata": {},
   "outputs": [
    {
     "data": {
      "text/plain": [
       "{'11': 1}"
      ]
     },
     "execution_count": 25,
     "metadata": {},
     "output_type": "execute_result"
    }
   ],
   "source": [
    "from qiskit import QuantumCircuit\n",
    "from qiskit import Aer, execute\n",
    "\n",
    "backend = Aer.get_backend('statevector_simulator')\n",
    "job = execute(circ, backend)\n",
    "result = job.result().get_counts()\n",
    "result"
   ]
  },
  {
   "cell_type": "code",
   "execution_count": 10,
   "metadata": {},
   "outputs": [
    {
     "data": {
      "text/plain": [
       "Operator([[1.+0.j, 0.+0.j, 0.+0.j, 0.+0.j],\n",
       "          [0.+0.j, 1.+0.j, 0.+0.j, 0.+0.j],\n",
       "          [0.+0.j, 0.+0.j, 0.+0.j, 1.+0.j],\n",
       "          [0.+0.j, 0.+0.j, 1.+0.j, 0.+0.j]],\n",
       "         input_dims=(2, 2), output_dims=(2, 2))"
      ]
     },
     "execution_count": 10,
     "metadata": {},
     "output_type": "execute_result"
    }
   ],
   "source": [
    "Uuu"
   ]
  },
  {
   "cell_type": "code",
   "execution_count": 18,
   "metadata": {},
   "outputs": [
    {
     "data": {
      "text/plain": [
       "('11111',\n",
       " DensityMatrix([[0.+0.j, 0.+0.j, 0.+0.j, ..., 0.+0.j, 0.+0.j, 0.+0.j],\n",
       "                [0.+0.j, 0.+0.j, 0.+0.j, ..., 0.+0.j, 0.+0.j, 0.+0.j],\n",
       "                [0.+0.j, 0.+0.j, 0.+0.j, ..., 0.+0.j, 0.+0.j, 0.+0.j],\n",
       "                ...,\n",
       "                [0.+0.j, 0.+0.j, 0.+0.j, ..., 0.+0.j, 0.+0.j, 0.+0.j],\n",
       "                [0.+0.j, 0.+0.j, 0.+0.j, ..., 0.+0.j, 0.+0.j, 0.+0.j],\n",
       "                [0.+0.j, 0.+0.j, 0.+0.j, ..., 0.+0.j, 0.+0.j, 1.+0.j]],\n",
       "               dims=(2, 2, 2, 2, 2)))"
      ]
     },
     "execution_count": 18,
     "metadata": {},
     "output_type": "execute_result"
    }
   ],
   "source": [
    "state = np.zeros(2**N)\n",
    "state[-1] = 1\n",
    "\n",
    "sv = Statevector(state)\n",
    "\n",
    "dm = DensityMatrix(sv)\n",
    "dm.measure()"
   ]
  },
  {
   "cell_type": "code",
   "execution_count": 57,
   "metadata": {},
   "outputs": [],
   "source": [
    "U_ = Operator(circ)\n",
    "statee = dm.evolve(U_)"
   ]
  },
  {
   "cell_type": "code",
   "execution_count": 59,
   "metadata": {},
   "outputs": [
    {
     "data": {
      "text/plain": [
       "('10',\n",
       " DensityMatrix([[0.+0.j, 0.+0.j, 0.+0.j, 0.+0.j],\n",
       "                [0.+0.j, 0.+0.j, 0.+0.j, 0.+0.j],\n",
       "                [0.+0.j, 0.+0.j, 1.+0.j, 0.+0.j],\n",
       "                [0.+0.j, 0.+0.j, 0.+0.j, 0.+0.j]],\n",
       "               dims=(2, 2)))"
      ]
     },
     "execution_count": 59,
     "metadata": {},
     "output_type": "execute_result"
    }
   ],
   "source": [
    "statee.measure()"
   ]
  },
  {
   "cell_type": "code",
   "execution_count": 16,
   "metadata": {},
   "outputs": [
    {
     "data": {
      "text/latex": [
       "Quantum object: dims = [[4], [1]], shape = (4, 1), type = ket\\begin{equation*}\\left(\\begin{array}{*{11}c}1.0\\\\0.0\\\\0.0\\\\0.0\\\\\\end{array}\\right)\\end{equation*}"
      ],
      "text/plain": [
       "Quantum object: dims = [[4], [1]], shape = (4, 1), type = ket\n",
       "Qobj data =\n",
       "[[1.]\n",
       " [0.]\n",
       " [0.]\n",
       " [0.]]"
      ]
     },
     "execution_count": 16,
     "metadata": {},
     "output_type": "execute_result"
    }
   ],
   "source": [
    "basis(4,0)\n"
   ]
  },
  {
   "cell_type": "code",
   "execution_count": 3,
   "metadata": {},
   "outputs": [
    {
     "name": "stdout",
     "output_type": "stream",
     "text": [
      "{'00|00': (0.5+0j), '91|91': (0.5+0j)}\n"
     ]
    }
   ],
   "source": [
    "import numpy as np\n",
    "from qiskit.quantum_info import DensityMatrix\n",
    "\n",
    "mat = np.zeros((2 * 10, 2 * 10))\n",
    "mat[0, 0] = 0.5\n",
    "mat[-1, -1] = 0.5\n",
    "rho = DensityMatrix(mat, dims=(2, 10))\n",
    "print(rho.to_dict())"
   ]
  },
  {
   "cell_type": "code",
   "execution_count": 6,
   "metadata": {},
   "outputs": [
    {
     "name": "stdout",
     "output_type": "stream",
     "text": [
      "{'00': (0.7071067811865475+0j), '91': (0.7071067811865475+0j)}\n"
     ]
    }
   ],
   "source": [
    "import numpy as np\n",
    "from qiskit.quantum_info import Statevector\n",
    "\n",
    "vec = np.zeros(2 * 10)\n",
    "vec[0] = 1 / np.sqrt(2)\n",
    "vec[-1] = 1 / np.sqrt(2)\n",
    "psi = Statevector(vec, dims=(2, 10))\n",
    "print(psi.to_dict())"
   ]
  },
  {
   "cell_type": "code",
   "execution_count": 1,
   "metadata": {},
   "outputs": [],
   "source": [
    "import numpy as np\n",
    "import math\n",
    "from qutip import *\n",
    "from qiskit import *\n",
    "from qiskit import QuantumCircuit\n",
    "from qiskit.quantum_info import DensityMatrix, Operator, partial_trace, random_density_matrix, random_statevector\n",
    "N = 6 # Number of qubits\n",
    "N_meas = 1*2**N  # Number of measurement one perform with one Pauli basis\n",
    "def meas(qubits_meas_basis, state, N, N_meas):\n",
    "    ''' Given a Pauli basis (0-Z, 1-X, 2-Y), do measurement and return its outcome\n",
    "    Args:\n",
    "        qubits_meas_basis: A list representing measuring basis\n",
    "        state: A quantum state from Qiskit\n",
    "        N_meas: see before\n",
    "    Yeilds:\n",
    "        outcome: A list of strings, of which each element is an instance of measurement\n",
    "    E.g.:\n",
    "        INPUT: [0,0,0], state, N=3, N_meas=2\n",
    "        OUTPUT: [000, 000] (in order of qubit 012)\n",
    "    '''\n",
    "    outcome = []\n",
    "    circ_meas = QuantumCircuit(N)\n",
    "\n",
    "    for i in range(N):\n",
    "        if qubits_meas_basis[i] == '1':\n",
    "            circ_meas.ry(-math.pi/2,i)\n",
    "        elif qubits_meas_basis[i] == '2':\n",
    "            circ_meas.rx(math.pi/2,i)\n",
    "\n",
    "    U_meas = Operator(circ_meas)\n",
    "    state_temp = state.evolve(U_meas)\n",
    "    for j in range(N_meas):\n",
    "        str_tmp = state_temp.measure()[0]\n",
    "        outcome.append(str_tmp[::-1])  # Take the reverse\n",
    "\n",
    "    # Note: in qiskit, qubit number counts from the left, \n",
    "    # e.g.: '00101' means we measure qubit0 a '1'.\n",
    "    return outcome\n",
    "def number_to_Pauli(pauli_num_str):\n",
    "    ''' Given a number string, return the corresponding Pauli string\n",
    "        0-Z, 1-X, 2-Y\n",
    "    E.g.:\n",
    "        INPUT: '01200' (in order of qubit 01234)\n",
    "        OUTPUT: 'ZZYXZ' (in order of qubit 01234)\n",
    "    '''\n",
    "    pauli_num_list = list(pauli_num_str)\n",
    "    pauli_basis_list = list(pauli_num_str)\n",
    "    for i in range(N):\n",
    "        if pauli_num_list[i] == '1':\n",
    "            pauli_basis_list[i] = 'X'\n",
    "        elif pauli_num_list[i] == '2':\n",
    "            pauli_basis_list[i] = 'Y'\n",
    "        else: \n",
    "            pauli_basis_list[i] = 'Z'\n",
    "    return ''.join(pauli_basis_list)\n",
    "def generate_meas_dataset(state):\n",
    "    Dict_meas_outcome = dict()\n",
    "    for i in range(3**N):\n",
    "        qubits_meas_basis = tenToAny(i,N,3)\n",
    "        meas_outcome_string = meas(qubits_meas_basis, state, N, N_meas)\n",
    "        Dict_meas_outcome[number_to_Pauli(''.join(qubits_meas_basis))] = meas_outcome_string\n",
    "    np.save('measurement_dataset.npy', Dict_meas_outcome)\n",
    "    return Dict_meas_outcome\n",
    "def tenToAny(origin,N,n):\n",
    "    # 10进制转换为n进制list\n",
    "    list = []\n",
    "    while True:\n",
    "        s = origin // n\n",
    "        tmp = origin % n\n",
    "        list.append(tmp)\n",
    "        if s == 0:\n",
    "            break\n",
    "        origin = s\n",
    "    list.reverse()\n",
    "    list = [str(each) for each in list]\n",
    "    while len(list) < N:\n",
    "        list.insert(0,'0')\n",
    "    return list\n",
    "def generate_PauliStrList(N):\n",
    "    ''' Given the number of qubits N, return its corresponding Pauli vector. \n",
    "    E.g.:\n",
    "        INPUT: N=2\n",
    "        OUTPUT: ['II','IX',...'ZZ']\n",
    "    '''\n",
    "    Pauli_str_list = []\n",
    "    for i in range(4**N):\n",
    "        pauli_num_list = tenToAny(i,N,4)\n",
    "        pauli_basis_list = pauli_num_list\n",
    "        for j in range(N):\n",
    "            if pauli_num_list[j] == '0':\n",
    "                pauli_basis_list[j] = 'I'\n",
    "            elif pauli_num_list[j] == '1':\n",
    "                pauli_basis_list[j] = 'X' \n",
    "            elif pauli_num_list[j] == '2':\n",
    "                pauli_basis_list[j] = 'Y'\n",
    "            else: \n",
    "                pauli_basis_list[j] = 'Z'\n",
    "        Pauli_str_list.append(''.join(pauli_basis_list))\n",
    "        \n",
    "    return Pauli_str_list\n",
    "def generate_sub_PauliStrList(PauliStrList, index):\n",
    "    ''' Given a index (list) of qubits, retrun the Pauli vectors of this sub system.\n",
    "    E.g.:\n",
    "        INPUT: PauliStrList=['III',...'ZZZ'], index=[0,2]\n",
    "        OUTPUT: ['III','IIX','IIY','IIZ','XII','XIX',...'ZIZ']\n",
    "    '''\n",
    "    output = list()\n",
    "    no_meas = list( set(list(range(N))) - set(index) )\n",
    "    for i in PauliStrList:\n",
    "        trigger = bool(1)\n",
    "        for j in no_meas:\n",
    "            trigger = bool(trigger and i[int(j)]=='I')\n",
    "        if trigger: output.append(i) \n",
    "\n",
    "    return output\n",
    "def parity_check(meas_string, N_meas):\n",
    "    ''' Given a measurement outcome binary string array, \n",
    "        return 0 if #1 in the string is even, otherwise return 1 for each element\n",
    "    '''\n",
    "    meas_parity = np.zeros(N_meas)\n",
    "    for i in range(N_meas):\n",
    "        temp = bin(int(meas_string[i],2)).count(\"1\")\n",
    "        if temp%2 == 0:\n",
    "            meas_parity[i] = 1\n",
    "        else:\n",
    "            meas_parity[i] = -1\n",
    "    return meas_parity    \n",
    "def exp_var_calculator(measurement_dataset,pauli_basis_str):\n",
    "    ''' Given a Pauli basis (on partial qubits, e.g.: XIXZY, IIIXX, ZIIII, etc.) and dataset, \n",
    "        return its the applicable measurement outcome expectation value and variance.\n",
    "    '''\n",
    "    output = list([])\n",
    "    for key in measurement_dataset:\n",
    "        if pauli_basis_str.count('I') == sum(char1 != char2 for char1,char2 in zip(pauli_basis_str,key)):\n",
    "            output = measurement_dataset[key]+output\n",
    "\n",
    "    while pauli_basis_str.find('I') != -1:\n",
    "        index_I = pauli_basis_str.find('I')\n",
    "        pauli_basis_str = pauli_basis_str[:index_I]+pauli_basis_str[(index_I+1):]\n",
    "        for j in range(len(output)):\n",
    "            words = output[j]\n",
    "            output[j] = words[:index_I]+words[(index_I+1):]\n",
    "\n",
    "    meas_outcome = parity_check(output,len(output))\n",
    "    expectation_value = np.average(meas_outcome)\n",
    "    variance = np.var(meas_outcome)\n",
    "\n",
    "    return expectation_value, variance\n",
    "def pauliToMatrix(pauli_str):\n",
    "    '''Given a Pauli string basis (str), \n",
    "       output its corresponding matrix representation (Qobj data).\n",
    "    '''\n",
    "    pauli_basis_list = list()\n",
    "    for basis in pauli_str:\n",
    "        if basis == 'I':\n",
    "            pauli_basis_list.append(qeye(2))\n",
    "        elif basis == 'X':\n",
    "            pauli_basis_list.append(sigmax())\n",
    "        elif basis == 'Y':\n",
    "            pauli_basis_list.append(sigmay())\n",
    "        else:\n",
    "            pauli_basis_list.append(sigmaz())\n",
    "    return tensor(pauli_basis_list)\n",
    "def q_tomography_dm(qubit_index):\n",
    "    ''' Do quantum tomography for certain qubits according to the index,\n",
    "        output the constructed density matrix.\n",
    "    '''\n",
    "    density_matrix = 0\n",
    "    for basis in generate_sub_PauliStrList(PauliStrList, qubit_index):\n",
    "        expectation, variance = exp_var_calculator(measurement_dataset,basis)\n",
    "        density_matrix += expectation*pauliToMatrix(basis)\n",
    "    density_matrix += tensor([qeye(2)]*N)\n",
    "    return 1/(2**N)*density_matrix.ptrace(qubit_index)  \n",
    "def q_tomography_vec(qubit_index):\n",
    "    ''' Do quantum tomography for certain qubits according to the index,\n",
    "        output a list of expectation value.\n",
    "    '''\n",
    "    bloch_vec = []\n",
    "    for basis in generate_sub_PauliStrList(PauliStrList, qubit_index):\n",
    "        expectation, variance = exp_var_calculator(measurement_dataset,basis)\n",
    "        bloch_vec.append(expectation)\n",
    "    return bloch_vec\n",
    "def sigma_list(qubit_index):\n",
    "    output = []\n",
    "    for basis in generate_sub_PauliStrList(PauliStrList, qubit_index):\n",
    "        expectation, variance = exp_var_calculator(measurement_dataset,basis)\n",
    "        sigma = np.power(variance,0.5)\n",
    "        output.append(sigma)\n",
    "    return output\n",
    "def Bloch_vec(qiskit_state, qubit_index):\n",
    "    ''' Given a qiskit quantum state and the qubit index,\n",
    "        return the Bloch vector of the reduced state according to the index\n",
    "    '''\n",
    "    output = []\n",
    "    for basis in generate_sub_PauliStrList(PauliStrList, qubit_index):\n",
    "        output.append(qiskit_state.expectation_value(oper=Pauli(basis), qargs=None))\n",
    "    return output\n",
    "def qubit_swap(N,state_43210):\n",
    "    circSWAP = QuantumCircuit(N)\n",
    "    for i in range(int(N/2)):\n",
    "        circSWAP.swap(i,N-1-i)\n",
    "    U_SWAP = Operator(circSWAP)\n",
    "    state_01234 = state_43210.evolve(U_SWAP)\n",
    "    return state_01234"
   ]
  },
  {
   "cell_type": "code",
   "execution_count": null,
   "metadata": {},
   "outputs": [],
   "source": [
    "import qiskit\n"
   ]
  },
  {
   "cell_type": "code",
   "execution_count": 2,
   "metadata": {},
   "outputs": [],
   "source": [
    "state_to_learn = random_statevector(2**N)\n",
    "np.save('q_state.npy', qubit_swap(N,state_to_learn))\n",
    "measurement_dataset = generate_meas_dataset(state_to_learn)"
   ]
  },
  {
   "cell_type": "code",
   "execution_count": null,
   "metadata": {},
   "outputs": [],
   "source": [
    "state_to_learn = qubit_swap(N,random_density_matrix(2**N))\n",
    "np.save('q_state.npy', state_to_learn)\n",
    "measurement_dataset = generate_meas_dataset(state_to_learn)"
   ]
  },
  {
   "cell_type": "code",
   "execution_count": null,
   "metadata": {},
   "outputs": [],
   "source": [
    "DensityMatrix.purity(DensityMatrix(a))"
   ]
  },
  {
   "cell_type": "code",
   "execution_count": null,
   "metadata": {},
   "outputs": [],
   "source": [
    "# Create a Quantum Circuit acting on a quantum register of N qubits\n",
    "circ = QuantumCircuit(N)\n",
    "circ.h(0)\n",
    "circ.h(1)\n",
    "circ.ry(-math.pi/2,2)\n",
    "circ.ry(-math.pi/2,3)\n",
    "#circ.h(4)\n",
    "#circ.cnot(3,5)\n",
    "circ.draw('mpl')\n",
    "U = Operator(circ)\n",
    "\n",
    "# Set the intial state of the simulator to the ground state using from_int\n",
    "state = DensityMatrix.from_int(0,2**N)\n",
    "# Evolve the state by the quantum circuit\n",
    "state = state.evolve(U)\n",
    "state_to_learn = qubit_swap(N,state)\n",
    "#plot_state_city(state)\n",
    "\n",
    "measurement_dataset = generate_meas_dataset(state)\n",
    "\n",
    "np.save('q_state.npy', state_to_learn)"
   ]
  },
  {
   "cell_type": "code",
   "execution_count": null,
   "metadata": {},
   "outputs": [],
   "source": [
    "# Create a Quantum Circuit acting on a quantum register of N qubits\n",
    "circ = QuantumCircuit(N)\n",
    "circ.h(0)\n",
    "circ.h(1)\n",
    "circ.h(2)\n",
    "#circ.h(3)\n",
    "#circ.h(4)\n",
    "circ.draw('mpl')\n",
    "U = Operator(circ)\n",
    "\n",
    "state = DensityMatrix.from_int(0,2**N)\n",
    "# Evolve the state by the quantum circuit\n",
    "state = state.evolve(U)\n",
    "state_to_learn = state.copy()\n",
    "\n",
    "measurement_dataset = generate_meas_dataset(state)\n",
    "\n",
    "np.save('q_state.npy', state_to_learn)"
   ]
  },
  {
   "cell_type": "code",
   "execution_count": null,
   "metadata": {},
   "outputs": [],
   "source": [
    "# Create a Quantum Circuit acting on a quantum register of N qubits\n",
    "circ = QuantumCircuit(N)\n",
    "#circ.rx(math.pi,0)\n",
    "circ.h(1)\n",
    "circ.ry(-math.pi/2,2)\n",
    "#circ.h(1)\n",
    "#circ.h(2)\n",
    "#circ.h(3)\n",
    "#circ.h(4)\n",
    "circ.draw('mpl')\n",
    "U = Operator(circ)\n",
    "\n",
    "state = DensityMatrix.from_int(0,2**N)\n",
    "# Evolve the state by the quantum circuit\n",
    "state = state.evolve(U)\n",
    "#state.measure()"
   ]
  },
  {
   "cell_type": "code",
   "execution_count": null,
   "metadata": {},
   "outputs": [],
   "source": [
    "state"
   ]
  },
  {
   "cell_type": "code",
   "execution_count": null,
   "metadata": {},
   "outputs": [],
   "source": [
    "qubit_swap(N,state)"
   ]
  },
  {
   "cell_type": "code",
   "execution_count": null,
   "metadata": {},
   "outputs": [],
   "source": [
    "measurement_dataset"
   ]
  },
  {
   "cell_type": "code",
   "execution_count": null,
   "metadata": {},
   "outputs": [],
   "source": [
    "state_to_learn"
   ]
  },
  {
   "cell_type": "code",
   "execution_count": null,
   "metadata": {},
   "outputs": [],
   "source": [
    "range(int(7/2))"
   ]
  }
 ],
 "metadata": {
  "kernelspec": {
   "display_name": "Python 3.7.7 ('QuantumC')",
   "language": "python",
   "name": "python3"
  },
  "language_info": {
   "codemirror_mode": {
    "name": "ipython",
    "version": 3
   },
   "file_extension": ".py",
   "mimetype": "text/x-python",
   "name": "python",
   "nbconvert_exporter": "python",
   "pygments_lexer": "ipython3",
   "version": "3.8.13"
  },
  "orig_nbformat": 4,
  "vscode": {
   "interpreter": {
    "hash": "eb1c09c88080a82141bde80abfc5c4dcde1e462f373af1bd572dc93ad8fc5299"
   }
  }
 },
 "nbformat": 4,
 "nbformat_minor": 2
}
